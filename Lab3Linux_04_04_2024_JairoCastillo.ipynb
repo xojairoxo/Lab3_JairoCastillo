{
  "nbformat": 4,
  "nbformat_minor": 0,
  "metadata": {
    "colab": {
      "provenance": [],
      "authorship_tag": "ABX9TyMCqVJCpPliP87nFg9fn+Ch",
      "include_colab_link": true
    },
    "kernelspec": {
      "name": "python3",
      "display_name": "Python 3"
    },
    "language_info": {
      "name": "python"
    }
  },
  "cells": [
    {
      "cell_type": "markdown",
      "metadata": {
        "id": "view-in-github",
        "colab_type": "text"
      },
      "source": [
        "<a href=\"https://colab.research.google.com/github/xojairoxo/Lab3_JairoCastillo/blob/main/Lab3Linux_04_04_2024_JairoCastillo.ipynb\" target=\"_parent\"><img src=\"https://colab.research.google.com/assets/colab-badge.svg\" alt=\"Open In Colab\"/></a>"
      ]
    },
    {
      "cell_type": "code",
      "execution_count": 56,
      "metadata": {
        "id": "nkkjXlcAlRf4"
      },
      "outputs": [],
      "source": [
        "import threading\n",
        "import random\n",
        "import time"
      ]
    },
    {
      "cell_type": "code",
      "source": [
        "def ordernar_subvector(subvector,hilo):\n",
        "  tiempo_inicio = time.time()\n",
        "  subvector.sort()\n",
        "  tiempo_fin = time.time()\n",
        "  tiempo_ejecucion = tiempo_fin - tiempo_inicio\n",
        "  print(f\"Hilo {hilo}: Subvector ordenado (Tiempo: {tiempo_ejecucion} segundos)\")"
      ],
      "metadata": {
        "id": "bs6Pu457lnvM"
      },
      "execution_count": 57,
      "outputs": []
    },
    {
      "cell_type": "code",
      "source": [
        "def dividir_vector(vector,num_hilos):\n",
        "  longitud_subvector = len(vector) // num_hilos\n",
        "  subvectores = [vector [i:i + longitud_subvector] for i in range(0,len(vector), longitud_subvector)]\n",
        "  return subvectores"
      ],
      "metadata": {
        "id": "PiEd8W7zmy5r"
      },
      "execution_count": 58,
      "outputs": []
    },
    {
      "cell_type": "code",
      "source": [
        "def unir_vectores(subvectores):\n",
        "  vector_ordenado = [num for subvector in subvectores for num in subvector]\n",
        "  return vector_ordenado"
      ],
      "metadata": {
        "id": "50L8MZbznSv7"
      },
      "execution_count": 59,
      "outputs": []
    },
    {
      "cell_type": "code",
      "source": [
        "def ordenar_vector(vector, num_hilos):\n",
        "  subvectores = dividir_vector(vector,num_hilos)\n",
        "  threads = []\n",
        "  for i, subvector in enumerate(subvectores):\n",
        "    thread  = threading.Thread(target = ordernar_subvector, args=(subvector,i))\n",
        "    thread.start()\n",
        "    threads.append(thread)\n",
        "  for thread in threads:\n",
        "    thread.join()\n",
        "\n",
        "  vector_ordenado = unir_vectores(subvectores)\n",
        "  vector_ordenado.sort()\n",
        "  print(f\"Vector ordenado final:{vector_ordenado}\")\n",
        "  # print(f\"Tiempo total de ejecución de todos los hilos: {tiempo_total} segundos\")\n",
        "\n",
        "vector_grande = [random.randint(1,100) for _ in range (100)]\n",
        "num_hilos = int(input(\"Ingrese la cantidad  de hilos\"))\n",
        "ordenar_vector(vector = vector_grande,num_hilos = num_hilos)\n",
        "\n",
        "\n",
        "\n"
      ],
      "metadata": {
        "colab": {
          "base_uri": "https://localhost:8080/"
        },
        "id": "kBSeZVg19rfZ",
        "outputId": "7e212963-bbaa-4753-8238-b70c8c22c34d"
      },
      "execution_count": 65,
      "outputs": [
        {
          "output_type": "stream",
          "name": "stdout",
          "text": [
            "Ingrese la cantidad  de hilos5\n",
            "Hilo 0: Subvector ordenado (Tiempo: 4.76837158203125e-06 segundos)\n",
            "Hilo 1: Subvector ordenado (Tiempo: 8.58306884765625e-06 segundos)\n",
            "Hilo 2: Subvector ordenado (Tiempo: 3.337860107421875e-06 segundos)\n",
            "Hilo 3: Subvector ordenado (Tiempo: 2.86102294921875e-06 segundos)\n",
            "Hilo 4: Subvector ordenado (Tiempo: 2.86102294921875e-06 segundos)\n",
            "Vector ordenado final:[1, 1, 2, 7, 7, 8, 8, 8, 9, 9, 10, 12, 12, 12, 13, 14, 15, 15, 15, 18, 18, 19, 20, 21, 21, 22, 24, 25, 25, 25, 26, 26, 31, 31, 31, 32, 32, 32, 34, 34, 34, 35, 35, 37, 41, 41, 42, 42, 43, 44, 44, 45, 45, 45, 46, 47, 47, 47, 47, 47, 48, 50, 50, 52, 53, 58, 59, 62, 68, 68, 69, 69, 70, 70, 72, 73, 73, 73, 74, 75, 76, 77, 77, 77, 77, 78, 81, 81, 84, 85, 86, 87, 91, 93, 95, 96, 97, 97, 97, 99]\n"
          ]
        }
      ]
    },
    {
      "cell_type": "markdown",
      "source": [
        "ANALISIS DE COMPARACION:\n",
        "2 HILOS:\n",
        "Hilo 0: Subvector ordenado (Tiempo: 8.344650268554688e-06 segundos)\n",
        "Hilo 1: Subvector ordenado (Tiempo: 7.152557373046875e-06 segundos)\n",
        "suma de ejecuciones: 15.50 segundos\n",
        "\n",
        "3 HILOS:\n",
        "Hilo 0: Subvector ordenado (Tiempo: 5.9604644775390625e-06 segundos)\n",
        "Hilo 1: Subvector ordenado (Tiempo: 5.0067901611328125e-06 segundos)\n",
        "Hilo 2: Subvector ordenado (Tiempo: 5.7220458984375e-06 segundos)\n",
        "Hilo 3: Subvector ordenado (Tiempo: 7.152557373046875e-07 segundos)\n",
        "suma de ejecuciones: 23.84 segundos\n",
        "4 HILOS:\n",
        "Hilo 0: Subvector ordenado (Tiempo: 4.291534423828125e-06 segundos)\n",
        "Hilo 1: Subvector ordenado (Tiempo: 4.5299530029296875e-06 segundos)\n",
        "Hilo 2: Subvector ordenado (Tiempo: 7.867813110351562e-06 segundos)\n",
        "Hilo 3: Subvector ordenado (Tiempo: 3.814697265625e-06 segundos)\n",
        "suma de ejecuciones: 20.50 segundos\n",
        "\n",
        "\n",
        "5 HILOS\n",
        "Hilo 0: Subvector ordenado (Tiempo: 4.76837158203125e-06 segundos)\n",
        "Hilo 1: Subvector ordenado (Tiempo: 8.58306884765625e-06 segundos)\n",
        "Hilo 2: Subvector ordenado (Tiempo: 3.337860107421875e-06 segundos)\n",
        "Hilo 3: Subvector ordenado (Tiempo: 2.86102294921875e-06 segundos)\n",
        "Hilo 4: Subvector ordenado (Tiempo: 2.86102294921875e-06 segundos)\n",
        "suma de ejecuciones: 22.41 segundos\n",
        "\n",
        "Prabando los tiempos de ejecuciones con diferentes hilos pude notar que el mejor tiempo de ejecuciones que nos da al ordenar los vectores en con 2 hilos por que la suma de los tiempos de ejecuciones es mejor en comparacion al usar mas hilos.\n",
        "\n",
        "\n"
      ],
      "metadata": {
        "id": "hXz1JpDeAcdT"
      }
    }
  ]
}