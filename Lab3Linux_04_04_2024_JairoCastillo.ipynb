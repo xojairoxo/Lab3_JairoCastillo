{
  "nbformat": 4,
  "nbformat_minor": 0,
  "metadata": {
    "colab": {
      "provenance": [],
      "authorship_tag": "ABX9TyPEPWV6Kgfj8nOnHQw3wzYt",
      "include_colab_link": true
    },
    "kernelspec": {
      "name": "python3",
      "display_name": "Python 3"
    },
    "language_info": {
      "name": "python"
    }
  },
  "cells": [
    {
      "cell_type": "markdown",
      "metadata": {
        "id": "view-in-github",
        "colab_type": "text"
      },
      "source": [
        "<a href=\"https://colab.research.google.com/github/xojairoxo/Lab3_JairoCastillo/blob/main/Lab3Linux_04_04_2024_JairoCastillo.ipynb\" target=\"_parent\"><img src=\"https://colab.research.google.com/assets/colab-badge.svg\" alt=\"Open In Colab\"/></a>"
      ]
    },
    {
      "cell_type": "code",
      "execution_count": 45,
      "metadata": {
        "id": "nkkjXlcAlRf4"
      },
      "outputs": [],
      "source": [
        "import threading\n",
        "import random\n",
        "import time"
      ]
    },
    {
      "cell_type": "code",
      "source": [
        "def ordernar_subvector(subvector,hilo):\n",
        "  tiempo_inicio = time.time()\n",
        "  subvector.sort()\n",
        "  tiempo_fin = time.time()\n",
        "  tiempo_ejecucion = tiempo_fin - tiempo_inicio\n",
        "  print(f\"Hilo {hilo}: Subvector ordenado (Tiempo: {tiempo_ejecucion} segundos)\")"
      ],
      "metadata": {
        "id": "bs6Pu457lnvM"
      },
      "execution_count": 46,
      "outputs": []
    },
    {
      "cell_type": "code",
      "source": [
        "def dividir_vector(vector,num_hilos):\n",
        "  longitud_subvector = len(vector) // num_hilos\n",
        "  subvectores = [vector [i:i + longitud_subvector] for i in range(0,len(vector), longitud_subvector)]\n",
        "  return subvectores"
      ],
      "metadata": {
        "id": "PiEd8W7zmy5r"
      },
      "execution_count": 37,
      "outputs": []
    },
    {
      "cell_type": "code",
      "source": [
        "def unir_vectores(subvectores):\n",
        "  vector_ordenado = [num for subvector in subvectores for num in subvector]\n",
        "  return vector_ordenado"
      ],
      "metadata": {
        "id": "50L8MZbznSv7"
      },
      "execution_count": 38,
      "outputs": []
    },
    {
      "cell_type": "code",
      "source": [
        "def ordenar_vector(vector, num_hilos):\n",
        "  subvectores = dividir_vector(vector,num_hilos)\n",
        "  threads = []\n",
        "  for i, subvector in enumerate(subvectores):\n",
        "    thread  = threading.Thread(target = ordernar_subvector, args=(subvector,i))\n",
        "    thread.start()\n",
        "    threads.append(thread)\n",
        "  for thread in threads:\n",
        "    thread.join()\n",
        "\n",
        "  vector_ordenado = unir_vectores(subvectores)\n",
        "  vector_ordenado.sort()\n",
        "  print(f\"Vector ordenado final:{vector_ordenado}\")\n",
        "  # print(f\"Tiempo total de ejecución de todos los hilos: {tiempo_total} segundos\")\n",
        "\n",
        "  vector_grande = [random.randint(1,100) for _ in range (100)]\n",
        "  num_hilos = int(input(\"Ingrese la cantidad  de hilos\"))\n",
        "  ordenar_vector(vector = vector_grande,num_hilos = num_hilos)\n"
      ],
      "metadata": {
        "id": "kBSeZVg19rfZ"
      },
      "execution_count": 53,
      "outputs": []
    }
  ]
}